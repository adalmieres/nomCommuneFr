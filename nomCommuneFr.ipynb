{
 "cells": [
  {
   "cell_type": "code",
   "execution_count": null,
   "metadata": {},
   "outputs": [],
   "source": [
    "import numpy as np\n",
    "import pandas as pd"
   ]
  },
  {
   "cell_type": "code",
   "execution_count": null,
   "metadata": {},
   "outputs": [],
   "source": [
    "#Chargement des données\n",
    "data = pd.read_csv('data/eucircos_regions_departements_circonscriptions_communes_gps.csv', sep=';')\n",
    "\n",
    "#liste les communes et nettoyage\n",
    "commune = data['nom_commune']\n",
    "commune = commune.str.lower().str.replace(r'-|\\'',' ')\n",
    "commune = commune.str.lower().str.replace(r'é|è|ê|ë','e')\n",
    "commune = commune.str.lower().str.replace(r'à|ä|â','a')\n",
    "commune = commune.str.lower().str.replace(r'ï|î','i')\n",
    "commune = commune.str.lower().str.replace(r'ö|ô','o')\n",
    "commune = commune.str.lower().str.replace(r'ù|û|ü','u')\n",
    "commune = commune.str.lower().str.replace('œ','oe')\n",
    "commune = commune.str.lower().str.replace('æ','ae')\n",
    "commune = commune.str.lower().str.replace(r'\\(|\\)',' ')\n",
    "commune = commune.str.lower().str.replace(r'\\s+',' ')\n",
    "commune = ' ' + commune + ' '\n",
    "commune = commune.str.lower().str.replace(r'(^|\\s)(le|la|les|a|d|l|au|des|du|de|aux|en|un|une)($|\\s)','')\n",
    "commune = ' ' + commune + ' '\n",
    "commune = commune.str.lower().str.replace(r'\\s+',' ')\n",
    "\n",
    "#liste des mots uniques distincts\n",
    "mots = pd.Series(commune.str.cat(sep=' ')).str.split()\n",
    "mots = pd.Series(mots[0])\n",
    "mots = pd.Series(mots.sort_values().unique())"
   ]
  },
  {
   "cell_type": "code",
   "execution_count": null,
   "metadata": {},
   "outputs": [],
   "source": [
    "#calcul du score\n",
    "resultats = pd.DataFrame()\n",
    "resultats['mot'] = mots\n",
    "resultats['score'] = 0\n",
    "\n",
    "# on boucle\n",
    "for row in resultats.itertuples():\n",
    "    score = commune.str.contains(' ' + row[1] + ' ').sum() - 1\n",
    "    resultats.at[row[0], 'score'] = score\n",
    "    if row[0]%1000 == 0:\n",
    "        print(row[0])\n",
    "\n",
    "# on stock temporairement\n",
    "resultats\n",
    "resultats = resultats.sort_values('score', ascending=False)\n",
    "resultats.to_csv('result.csv', index=False)\n",
    "\n",
    "# donc on a une liste des mots avec le nombre de commune qui le contienne"
   ]
  },
  {
   "cell_type": "code",
   "execution_count": null,
   "metadata": {},
   "outputs": [],
   "source": [
    "# chargement du résultat intermédiaire\n",
    "resultats = pd.read_csv('result.csv', sep=\",\")\n",
    "\n",
    "# a partir de là, il faut prendre le premier mot, compter le nombre de commune que ça concerne, les enlever de la liste et recommencer avec le second mot et ainsi de suite\n",
    "startList = commune\n",
    "stopIndex = 100\n",
    "perf = pd.DataFrame(columns=['mot', 'contains', 'restant'])\n",
    "perf['mot'] = resultats['mot']\n",
    "for row in resultats.itertuples() :\n",
    "    #if row[0] <= stopIndex :\n",
    "    contains = startList[startList.str.contains(' ' + str(row[1]) + ' ')]\n",
    "    startList = startList.drop(contains.index)\n",
    "    perf.at[row[0], 'contains'] = contains.size\n",
    "    perf.at[row[0], 'restant'] = startList.size\n",
    "    if row[0]%1000 == 0 :\n",
    "        print(str(row[0]) + \" : \" + str(row[1]) + \" - \" + str(contains.size) + \" - \" + str(startList.size))\n",
    "    \n",
    "perf.to_csv('perf.csv', sep=\",\")"
   ]
  }
 ],
 "metadata": {
  "kernelspec": {
   "display_name": "Python 3",
   "language": "python",
   "name": "python3"
  },
  "language_info": {
   "codemirror_mode": {
    "name": "ipython",
    "version": 3
   },
   "file_extension": ".py",
   "mimetype": "text/x-python",
   "name": "python",
   "nbconvert_exporter": "python",
   "pygments_lexer": "ipython3",
   "version": "3.6.9"
  }
 },
 "nbformat": 4,
 "nbformat_minor": 4
}
